{
  "nbformat": 4,
  "nbformat_minor": 0,
  "metadata": {
    "colab": {
      "name": "module0.ipynb",
      "provenance": [],
      "collapsed_sections": []
    },
    "kernelspec": {
      "name": "python3",
      "display_name": "Python 3"
    }
  },
  "cells": [
    {
      "cell_type": "code",
      "metadata": {
        "id": "YiT7YZdh0cu3",
        "outputId": "0e8b3814-8fa8-431f-a1d8-43dc658645a1",
        "colab": {
          "base_uri": "https://localhost:8080/"
        }
      },
      "source": [
        "import random\n",
        "\n",
        "min_number = 1\n",
        "max_number = 100\n",
        "\n",
        "\n",
        "# don't use this function directly, use 'guess' instead\n",
        "def guess_internal(left, right, secret):\n",
        "    # divide result should be always treated as int \n",
        "    predict = left + int((right - left) / 2)\n",
        "\n",
        "    # print (left, right, \"###\", predict, secret)\n",
        "\n",
        "    if secret > predict:\n",
        "        if predict == left:\n",
        "            # this is border situation, when max_number was thought and we'll never\n",
        "            # predict this number due to rounding (in out situation recursion will stuck on 99)\n",
        "\n",
        "            # got it!\n",
        "            return 1\n",
        "\n",
        "        return guess_internal(predict, right, secret) + 1\n",
        "    elif secret < predict:\n",
        "        return guess_internal(left, predict, secret) + 1\n",
        "    else:\n",
        "        # got it!\n",
        "        return 1\n",
        "\n",
        "\n",
        "# main function for number predicting\n",
        "def guess(secret):\n",
        "    if secret < min_number or secret > max_number or min_number >= max_number:\n",
        "        return -1\n",
        "\n",
        "    return guess_internal(min_number, max_number, secret)\n",
        "\n",
        "\n",
        "# test function\n",
        "def calc_average_attempts():\n",
        "    check = min_number\n",
        "    tests = 0\n",
        "    attempts = 0\n",
        "\n",
        "    while check <= max_number:\n",
        "        attempts += guess(check)\n",
        "\n",
        "        tests += 1\n",
        "        check += 1\n",
        "\n",
        "    print (\"Average attempts to guess: \" + str(float(attempts) / float(tests)))\n",
        "\n",
        "\n",
        "def guess_single_random_number():\n",
        "    number = random.randint(1, 100)\n",
        "    print (\"This program guessed \" + str(number) + \" in \" + str(guess(number)) + \" attempts\")\n",
        "\n",
        "\n",
        "# print average attempts after running 100 tests\n",
        "calc_average_attempts()\n",
        "\n",
        "# run single test\n",
        "guess_single_random_number()\n"
      ],
      "execution_count": 9,
      "outputs": [
        {
          "output_type": "stream",
          "text": [
            "Average attempts to guess: 5.81\n",
            "This program guessed 1 in 7 attempts\n"
          ],
          "name": "stdout"
        }
      ]
    }
  ]
}